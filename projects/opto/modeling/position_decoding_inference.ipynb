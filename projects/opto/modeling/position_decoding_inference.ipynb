{
 "cells": [
  {
   "cell_type": "code",
   "execution_count": 2,
   "id": "a31095e6-def7-4715-b424-13830d204d1a",
   "metadata": {},
   "outputs": [
    {
     "data": {
      "text/plain": [
       "\"\\nTraining Data is a N*T*n tensor, N is the number of samples, T is the interval,\\nn is number of neurons.\\nTraining Data is a N*1*1 tensor, N is the number of samples, 1*1 represents the\\noutput dimension, which is the position of last time point.\\nTesting Data is a N'*T*n tensor.\\nTesting label is a N*1*1 tensor.\\nE.g.,\\nTrainingData = create_subsequences(np.transpose(X, TimeInterval))\\nTrainingLabel = Y[TimeInterval-1:].reshape(-1,1)\\nX is dFF, Y is corresponding position.\\n\""
      ]
     },
     "execution_count": 2,
     "metadata": {},
     "output_type": "execute_result"
    }
   ],
   "source": [
    "'''\n",
    "Training Data is a N*T*n tensor, N is the number of samples, T is the interval,\n",
    "n is number of neurons.\n",
    "Training Data is a N*1*1 tensor, N is the number of samples, 1*1 represents the\n",
    "output dimension, which is the position of last time point.\n",
    "Testing Data is a N'*T*n tensor.\n",
    "Testing label is a N*1*1 tensor.\n",
    "E.g.,\n",
    "TrainingData = create_subsequences(np.transpose(X, TimeInterval))\n",
    "TrainingLabel = Y[TimeInterval-1:].reshape(-1,1)\n",
    "X is dFF, Y is corresponding position.\n",
    "'''"
   ]
  },
  {
   "cell_type": "code",
   "execution_count": 1,
   "id": "5af50423-b76f-4e59-a724-3db6f6fee61b",
   "metadata": {},
   "outputs": [],
   "source": [
    "import torch, os, glob\n",
    "import torch.nn as nn\n",
    "import torch.nn.functional as F\n",
    "from torch.utils.data import Dataset, DataLoader\n",
    "import pickle\n",
    "import numpy as np\n",
    "import matplotlib.pyplot as plt\n",
    "import sys\n",
    "np.set_printoptions(threshold=sys.maxsize)\n",
    "import scipy, pandas as pd, random\n",
    "from sklearn.preprocessing import MinMaxScaler\n",
    "\n",
    "class LSTMModel(nn.Module):\n",
    "    def __init__(self, input_dim, hidden_dim = 256, output_dim = 1, \n",
    "        num_layers = 2):\n",
    "        super(LSTMModel, self).__init__()\n",
    "        # Initialize the LSTM, Hidden Layer, and Output Layer\n",
    "        self.hidden_dim = hidden_dim\n",
    "        self.num_layers = num_layers\n",
    "        self.lstm = nn.LSTM(input_dim, hidden_dim, num_layers, \n",
    "                dropout = 0.0, batch_first=True)\n",
    "        self.fc = nn.Linear(hidden_dim, output_dim)\n",
    "\n",
    "    def forward(self, x):\n",
    "        # Initialize hidden state and cell state\n",
    "        h0 = torch.zeros(self.num_layers, x.size(0), self.hidden_dim).to(x.device)\n",
    "        c0 = torch.zeros(self.num_layers, x.size(0), self.hidden_dim).to(x.device)\n",
    "\n",
    "        # Forward propagate the LSTM\n",
    "        out, _ = self.lstm(x, (h0, c0))\n",
    "\n",
    "        # Pass the output of the last time step to the classifier\n",
    "        out = self.fc(out[:, -1, :])\n",
    "        \n",
    "        return out\n",
    "\n",
    "def create_subsequences(time_series, subsequence_length=20):\n",
    "    num_subsequences = len(time_series) - subsequence_length + 1\n",
    "    subsequences = [time_series[i:i+subsequence_length] for i in range(num_subsequences)]\n",
    "    return np.array(subsequences)\n",
    "\n",
    "class CreateTimeSeriesData(Dataset):\n",
    "    def __init__(self, x, y):\n",
    "        self.x = x\n",
    "        self.y = y\n",
    "\n",
    "    def __len__(self):\n",
    "        return len(self.x)\n",
    "\n",
    "    def __getitem__(self, i):\n",
    "        return self.x[i], self.y[i]"
   ]
  },
  {
   "cell_type": "code",
   "execution_count": 2,
   "id": "29889763-e36c-4fe3-a06e-92993d7618ef",
   "metadata": {},
   "outputs": [],
   "source": [
    "# import raw data\n",
    "with open(\"Z:\\dcts_com_opto.p\", \"rb\") as fp: #unpickle\n",
    "        dcts = pickle.load(fp)\n",
    "conddf = pd.read_csv(r\"Z:\\condition_df\\conddf_neural_com.csv\", index_col=None)"
   ]
  },
  {
   "cell_type": "code",
   "execution_count": 23,
   "id": "255a71d6",
   "metadata": {},
   "outputs": [],
   "source": [
    "import matplotlib as mpl\n",
    "mpl.rcParams['svg.fonttype'] = 'none'\n",
    "mpl.rcParams[\"xtick.major.size\"] = 8\n",
    "mpl.rcParams[\"ytick.major.size\"] = 8\n",
    "import matplotlib.pyplot as plt\n",
    "plt.rcParams[\"font.family\"] = \"Arial\"\n",
    "plt.rc('font', size=16)          # controls default text sizes\n",
    "savedst = r'C:\\Users\\Han\\Box\\neuro_phd_stuff\\han_2023-\\thesis_proposal'\n",
    "def run_inference_optoep_for_vis(conddf, dd, dcts,\n",
    "            savepth = r'Z:\\\\models_lstm_inactive', savedst = savedst):    \n",
    "    \"\"\"\n",
    "    run inference on opto ep and get error\n",
    "    \"\"\"\n",
    "    savepth = glob.glob(os.path.join(savepth, f'model_dd{dd:02d}*'), recursive=True)[0]\n",
    "    if os.path.exists(savepth):\n",
    "        day=conddf.days.values[dd]\n",
    "        animal = conddf.animals.values[dd]\n",
    "        params_pth = rf\"Y:\\analysis\\fmats\\{animal}\\days\\{animal}_day{day:03d}_plane0_Fall.mat\"\n",
    "        print(params_pth)\n",
    "        fall = scipy.io.loadmat(params_pth, variable_names=['dFF', 'forwardvel', 'ybinned', 'iscell',\n",
    "                                    'trialnum', 'bordercells', 'changeRewLoc', 'licks'])\n",
    "        inactive = dcts[dd]['inactive']\n",
    "        changeRewLoc = np.hstack(fall['changeRewLoc']) \n",
    "        eptest = conddf.optoep.values[dd]\n",
    "        eps = np.where(changeRewLoc>0)[0]\n",
    "        rewlocs = changeRewLoc[eps]\n",
    "        eps = np.append(eps, len(changeRewLoc)) \n",
    "        if conddf.optoep.values[dd]<2: \n",
    "            eptest = random.randint(2,3)   \n",
    "            if len(eps)<4: eptest = 2 # if no 3 epochs\n",
    "        trialnum = np.hstack(fall['trialnum'])\n",
    "        comp = [int(savepth[-6:-5]), int(savepth[-4:-3])] # eps to compare    \n",
    "        other_ep = [xx for xx in range(len(eps)-1) if xx not in comp]\n",
    "        # filter iscell\n",
    "        dff = fall['dFF'][:,(fall['iscell'][:,0].astype(bool)) & (~fall['bordercells'][0].astype(bool))]\n",
    "        dff = dff[:, dcts[dd]['inactive']]\n",
    "        # remove nans\n",
    "        dff[:, sum(np.isnan(dff))>0] = 0\n",
    "        dff_per_ep = [dff[eps[xx]:eps[xx+1]] for xx in range(len(eps)-1)]\n",
    "        trialnum_per_ep = [trialnum[eps[xx]:eps[xx+1]] for xx in range(len(eps)-1)]\n",
    "        # get a subset of trials\n",
    "        dff_per_ep_trials = [dff_per_ep[ii][((trialnum_per_ep[ii]>2) & (trialnum_per_ep[ii]<=10)) | (trialnum_per_ep[ii]>15)] for ii in range(len(eps)-1)]\n",
    "        dff_per_ep_trials_test = [dff_per_ep[ii][(trialnum_per_ep[ii]>10) & (trialnum_per_ep[ii]<16)] for ii in range(len(eps)-1)]\n",
    "        position = fall['ybinned'][0]\n",
    "        position_per_ep = [position[eps[xx]:eps[xx+1]] for xx in range(len(eps)-1)]\n",
    "        # get a subset of trials\n",
    "        position_per_ep_trials = [position_per_ep[ii][((trialnum_per_ep[ii]>2) & (trialnum_per_ep[ii]<=10)) | (trialnum_per_ep[ii]>15)] for ii in range(len(eps)-1)]\n",
    "        position_per_ep_trials_test = [position_per_ep[ii][(trialnum_per_ep[ii]>10) & (trialnum_per_ep[ii]<16)] for ii in range(len(eps)-1)]\n",
    "        # licks\n",
    "        licks = fall['licks'][0]\n",
    "        licks_per_ep = [licks[eps[xx]:eps[xx+1]] for xx in range(len(eps)-1)]\n",
    "        # get a subset of trials\n",
    "        licks_per_ep_trials = [licks_per_ep[ii][((trialnum_per_ep[ii]>2) & (trialnum_per_ep[ii]<=10)) | (trialnum_per_ep[ii]>15)] for ii in range(len(eps)-1)]\n",
    "        licks_per_ep_trials_test = [licks_per_ep[ii][(trialnum_per_ep[ii]>10) & (trialnum_per_ep[ii]<16)] for ii in range(len(eps)-1)]\n",
    "        #prepare variables \n",
    "        TimeInterval = 15 # frames\n",
    "        # run inference on opto epoch\n",
    "        test = dff_per_ep_trials[comp[1]]\n",
    "        test_pos = position_per_ep_trials[comp[1]]\n",
    "        lick = licks_per_ep_trials[comp[1]]\n",
    "        TestLabel = test_pos[TimeInterval-1:].reshape(-1,1)\n",
    "        TestData = create_subsequences(test,TimeInterval)\n",
    "        batch_size = 128\n",
    "        input_size = TestData.shape[-1] # number of cells\n",
    "        output_size = 1        \n",
    "        \n",
    "        Test_dataset = CreateTimeSeriesData(TestData, TestLabel)\n",
    "        Test_loader = DataLoader(dataset=Test_dataset, batch_size=batch_size,\n",
    "                    shuffle=False, drop_last = True)        \n",
    "\n",
    "        # load existing model                \n",
    "        print(savepth)\n",
    "        model = LSTMModel(input_size, output_dim = output_size)\n",
    "        model.load_state_dict(torch.load(savepth))\n",
    "        device = torch.device(\"cpu\")\n",
    "        print(device)\n",
    "        model = model.to(device)\n",
    "        criterion = nn.MSELoss()  # For regression tasks\n",
    "        # criterion = nn.CrossEntropyLoss()\n",
    "        optimizer = torch.optim.Adam(model.parameters(), lr=1e-5, \n",
    "                    weight_decay = 1e-9)\n",
    "        predict = []\n",
    "        val_loss = 0\n",
    "        for inputs, targets in Test_loader:\n",
    "            # Forward pass\n",
    "            inputs, targets = inputs.to(device).float(), targets.to(device).float()\n",
    "            outputs = model(inputs)\n",
    "            predict.append(outputs)\n",
    "            loss = criterion(outputs, targets)\n",
    "            val_loss += loss.item()\n",
    "        print('Validation Loss: {:.4f}'.format(val_loss/len(Test_loader)))\n",
    "        predict = np.concatenate([xx.cpu().detach().numpy() for xx in predict])\n",
    "        predict_vis = np.squeeze(np.array(pd.DataFrame(predict).interpolate().rolling(50).mean().interpolate().values))\n",
    "        print(sum(np.isnan(predict)))\n",
    "        pos = test_pos\n",
    "        fig, axes = plt.subplots(1,3, figsize=(20,7))\n",
    "        # 5625= 3 min\n",
    "        axes[0].plot(pos[:5625], label='True position')\n",
    "        axes[1].plot(predict_vis[:5625],color='darkorange', label='Predicted position')\n",
    "        axes[2].plot(pos[:5625],label='True position')\n",
    "        axes[2].plot(predict_vis[:5625],color='darkorange', label='Predicted position')\n",
    "        axes[0].scatter(np.where(lick[:5625]>0)[0], pos[:5625][np.where(lick[:5625]>0)[0]], s=20, color='k',\n",
    "                    label='Lick')\n",
    "        axes[0].set_xlabel(\"Time (s)\")\n",
    "        axes[0].set_ylabel(\"Position (cm)\")\n",
    "        axes[0].legend()\n",
    "        axes[1].legend()\n",
    "        axes[2].legend()\n",
    "        fig.suptitle(f'Animal: {animal}, Day: {day}, optoep: {conddf.optoep.values[dd]}')\n",
    "        plt.savefig(os.path.join(savedst,rf'{animal}_{day}_prediction.svg'), bbox_inches='tight')\n",
    "        plt.close(fig)\n",
    "        print(pos.shape)\n",
    "        print(predict.shape)\n",
    "        # Compute the MAE and MSE on a test set            \n",
    "        if pos.shape[0]>predict.shape[0]:\n",
    "            pos = pos[:predict.shape[0]]\n",
    "        mae = mean_absolute_error(pos, predict)\n",
    "        mse = mean_squared_error(pos, predict)\n",
    "        print(f\"MAE: {mae:.4f}, MSE: {mse:.4f}\")\n",
    "        return [mse,mae]"
   ]
  },
  {
   "cell_type": "markdown",
   "id": "70c7ac59",
   "metadata": {},
   "source": [
    "#### Run inference for all days in a loop"
   ]
  },
  {
   "cell_type": "code",
   "execution_count": 24,
   "id": "d706cd70-567b-4dfe-a185-adb96ce06eaf",
   "metadata": {},
   "outputs": [
    {
     "name": "stdout",
     "output_type": "stream",
     "text": [
      "Y:\\analysis\\fmats\\e218\\days\\e218_day020_plane0_Fall.mat\n",
      "Z:\\\\models_lstm_inactive\\model_dd00_epcompare0-1.pt\n",
      "cpu\n",
      "Validation Loss: 2848.0324\n",
      "49\n",
      "(18732,)\n",
      "(18688,)\n"
     ]
    },
    {
     "ename": "ValueError",
     "evalue": "Input contains NaN.",
     "output_type": "error",
     "traceback": [
      "\u001b[1;31m---------------------------------------------------------------------------\u001b[0m",
      "\u001b[1;31mValueError\u001b[0m                                Traceback (most recent call last)",
      "Cell \u001b[1;32mIn[24], line 10\u001b[0m\n\u001b[0;32m      8\u001b[0m \u001b[38;5;28;01mfor\u001b[39;00m dd \u001b[38;5;129;01min\u001b[39;00m dds: \u001b[38;5;66;03m#len(conddf)\u001b[39;00m\n\u001b[0;32m      9\u001b[0m     \u001b[38;5;28;01mif\u001b[39;00m conddf\u001b[38;5;241m.\u001b[39min_type\u001b[38;5;241m.\u001b[39mvalues[dd]\u001b[38;5;241m==\u001b[39m\u001b[38;5;124m'\u001b[39m\u001b[38;5;124mvip\u001b[39m\u001b[38;5;124m'\u001b[39m:\n\u001b[1;32m---> 10\u001b[0m         errors\u001b[38;5;241m.\u001b[39mappend(\u001b[43mrun_inference_optoep_for_vis\u001b[49m\u001b[43m(\u001b[49m\u001b[43mconddf\u001b[49m\u001b[43m,\u001b[49m\u001b[43mdd\u001b[49m\u001b[43m,\u001b[49m\u001b[43mdcts\u001b[49m\u001b[43m)\u001b[49m)\n",
      "Cell \u001b[1;32mIn[23], line 117\u001b[0m, in \u001b[0;36mrun_inference_optoep_for_vis\u001b[1;34m(conddf, dd, dcts, savepth, savedst)\u001b[0m\n\u001b[0;32m    115\u001b[0m \u001b[38;5;28;01mif\u001b[39;00m pos\u001b[38;5;241m.\u001b[39mshape[\u001b[38;5;241m0\u001b[39m]\u001b[38;5;241m>\u001b[39mpredict\u001b[38;5;241m.\u001b[39mshape[\u001b[38;5;241m0\u001b[39m]:\n\u001b[0;32m    116\u001b[0m     pos \u001b[38;5;241m=\u001b[39m pos[:predict\u001b[38;5;241m.\u001b[39mshape[\u001b[38;5;241m0\u001b[39m]]\n\u001b[1;32m--> 117\u001b[0m mae \u001b[38;5;241m=\u001b[39m \u001b[43mmean_absolute_error\u001b[49m\u001b[43m(\u001b[49m\u001b[43mpos\u001b[49m\u001b[43m,\u001b[49m\u001b[43m \u001b[49m\u001b[43mpredict\u001b[49m\u001b[43m)\u001b[49m\n\u001b[0;32m    118\u001b[0m mse \u001b[38;5;241m=\u001b[39m mean_squared_error(pos, predict)\n\u001b[0;32m    119\u001b[0m \u001b[38;5;28mprint\u001b[39m(\u001b[38;5;124mf\u001b[39m\u001b[38;5;124m\"\u001b[39m\u001b[38;5;124mMAE: \u001b[39m\u001b[38;5;132;01m{\u001b[39;00mmae\u001b[38;5;132;01m:\u001b[39;00m\u001b[38;5;124m.4f\u001b[39m\u001b[38;5;132;01m}\u001b[39;00m\u001b[38;5;124m, MSE: \u001b[39m\u001b[38;5;132;01m{\u001b[39;00mmse\u001b[38;5;132;01m:\u001b[39;00m\u001b[38;5;124m.4f\u001b[39m\u001b[38;5;132;01m}\u001b[39;00m\u001b[38;5;124m\"\u001b[39m)\n",
      "File \u001b[1;32mc:\\Users\\Han\\anaconda3\\lib\\site-packages\\sklearn\\metrics\\_regression.py:196\u001b[0m, in \u001b[0;36mmean_absolute_error\u001b[1;34m(y_true, y_pred, sample_weight, multioutput)\u001b[0m\n\u001b[0;32m    141\u001b[0m \u001b[38;5;28;01mdef\u001b[39;00m \u001b[38;5;21mmean_absolute_error\u001b[39m(\n\u001b[0;32m    142\u001b[0m     y_true, y_pred, \u001b[38;5;241m*\u001b[39m, sample_weight\u001b[38;5;241m=\u001b[39m\u001b[38;5;28;01mNone\u001b[39;00m, multioutput\u001b[38;5;241m=\u001b[39m\u001b[38;5;124m\"\u001b[39m\u001b[38;5;124muniform_average\u001b[39m\u001b[38;5;124m\"\u001b[39m\n\u001b[0;32m    143\u001b[0m ):\n\u001b[0;32m    144\u001b[0m \u001b[38;5;250m    \u001b[39m\u001b[38;5;124;03m\"\"\"Mean absolute error regression loss.\u001b[39;00m\n\u001b[0;32m    145\u001b[0m \n\u001b[0;32m    146\u001b[0m \u001b[38;5;124;03m    Read more in the :ref:`User Guide <mean_absolute_error>`.\u001b[39;00m\n\u001b[1;32m   (...)\u001b[0m\n\u001b[0;32m    194\u001b[0m \u001b[38;5;124;03m    0.85...\u001b[39;00m\n\u001b[0;32m    195\u001b[0m \u001b[38;5;124;03m    \"\"\"\u001b[39;00m\n\u001b[1;32m--> 196\u001b[0m     y_type, y_true, y_pred, multioutput \u001b[38;5;241m=\u001b[39m \u001b[43m_check_reg_targets\u001b[49m\u001b[43m(\u001b[49m\n\u001b[0;32m    197\u001b[0m \u001b[43m        \u001b[49m\u001b[43my_true\u001b[49m\u001b[43m,\u001b[49m\u001b[43m \u001b[49m\u001b[43my_pred\u001b[49m\u001b[43m,\u001b[49m\u001b[43m \u001b[49m\u001b[43mmultioutput\u001b[49m\n\u001b[0;32m    198\u001b[0m \u001b[43m    \u001b[49m\u001b[43m)\u001b[49m\n\u001b[0;32m    199\u001b[0m     check_consistent_length(y_true, y_pred, sample_weight)\n\u001b[0;32m    200\u001b[0m     output_errors \u001b[38;5;241m=\u001b[39m np\u001b[38;5;241m.\u001b[39maverage(np\u001b[38;5;241m.\u001b[39mabs(y_pred \u001b[38;5;241m-\u001b[39m y_true), weights\u001b[38;5;241m=\u001b[39msample_weight, axis\u001b[38;5;241m=\u001b[39m\u001b[38;5;241m0\u001b[39m)\n",
      "File \u001b[1;32mc:\\Users\\Han\\anaconda3\\lib\\site-packages\\sklearn\\metrics\\_regression.py:102\u001b[0m, in \u001b[0;36m_check_reg_targets\u001b[1;34m(y_true, y_pred, multioutput, dtype)\u001b[0m\n\u001b[0;32m    100\u001b[0m check_consistent_length(y_true, y_pred)\n\u001b[0;32m    101\u001b[0m y_true \u001b[38;5;241m=\u001b[39m check_array(y_true, ensure_2d\u001b[38;5;241m=\u001b[39m\u001b[38;5;28;01mFalse\u001b[39;00m, dtype\u001b[38;5;241m=\u001b[39mdtype)\n\u001b[1;32m--> 102\u001b[0m y_pred \u001b[38;5;241m=\u001b[39m \u001b[43mcheck_array\u001b[49m\u001b[43m(\u001b[49m\u001b[43my_pred\u001b[49m\u001b[43m,\u001b[49m\u001b[43m \u001b[49m\u001b[43mensure_2d\u001b[49m\u001b[38;5;241;43m=\u001b[39;49m\u001b[38;5;28;43;01mFalse\u001b[39;49;00m\u001b[43m,\u001b[49m\u001b[43m \u001b[49m\u001b[43mdtype\u001b[49m\u001b[38;5;241;43m=\u001b[39;49m\u001b[43mdtype\u001b[49m\u001b[43m)\u001b[49m\n\u001b[0;32m    104\u001b[0m \u001b[38;5;28;01mif\u001b[39;00m y_true\u001b[38;5;241m.\u001b[39mndim \u001b[38;5;241m==\u001b[39m \u001b[38;5;241m1\u001b[39m:\n\u001b[0;32m    105\u001b[0m     y_true \u001b[38;5;241m=\u001b[39m y_true\u001b[38;5;241m.\u001b[39mreshape((\u001b[38;5;241m-\u001b[39m\u001b[38;5;241m1\u001b[39m, \u001b[38;5;241m1\u001b[39m))\n",
      "File \u001b[1;32mc:\\Users\\Han\\anaconda3\\lib\\site-packages\\sklearn\\utils\\validation.py:921\u001b[0m, in \u001b[0;36mcheck_array\u001b[1;34m(array, accept_sparse, accept_large_sparse, dtype, order, copy, force_all_finite, ensure_2d, allow_nd, ensure_min_samples, ensure_min_features, estimator, input_name)\u001b[0m\n\u001b[0;32m    915\u001b[0m         \u001b[38;5;28;01mraise\u001b[39;00m \u001b[38;5;167;01mValueError\u001b[39;00m(\n\u001b[0;32m    916\u001b[0m             \u001b[38;5;124m\"\u001b[39m\u001b[38;5;124mFound array with dim \u001b[39m\u001b[38;5;132;01m%d\u001b[39;00m\u001b[38;5;124m. \u001b[39m\u001b[38;5;132;01m%s\u001b[39;00m\u001b[38;5;124m expected <= 2.\u001b[39m\u001b[38;5;124m\"\u001b[39m\n\u001b[0;32m    917\u001b[0m             \u001b[38;5;241m%\u001b[39m (array\u001b[38;5;241m.\u001b[39mndim, estimator_name)\n\u001b[0;32m    918\u001b[0m         )\n\u001b[0;32m    920\u001b[0m     \u001b[38;5;28;01mif\u001b[39;00m force_all_finite:\n\u001b[1;32m--> 921\u001b[0m         \u001b[43m_assert_all_finite\u001b[49m\u001b[43m(\u001b[49m\n\u001b[0;32m    922\u001b[0m \u001b[43m            \u001b[49m\u001b[43marray\u001b[49m\u001b[43m,\u001b[49m\n\u001b[0;32m    923\u001b[0m \u001b[43m            \u001b[49m\u001b[43minput_name\u001b[49m\u001b[38;5;241;43m=\u001b[39;49m\u001b[43minput_name\u001b[49m\u001b[43m,\u001b[49m\n\u001b[0;32m    924\u001b[0m \u001b[43m            \u001b[49m\u001b[43mestimator_name\u001b[49m\u001b[38;5;241;43m=\u001b[39;49m\u001b[43mestimator_name\u001b[49m\u001b[43m,\u001b[49m\n\u001b[0;32m    925\u001b[0m \u001b[43m            \u001b[49m\u001b[43mallow_nan\u001b[49m\u001b[38;5;241;43m=\u001b[39;49m\u001b[43mforce_all_finite\u001b[49m\u001b[43m \u001b[49m\u001b[38;5;241;43m==\u001b[39;49m\u001b[43m \u001b[49m\u001b[38;5;124;43m\"\u001b[39;49m\u001b[38;5;124;43mallow-nan\u001b[39;49m\u001b[38;5;124;43m\"\u001b[39;49m\u001b[43m,\u001b[49m\n\u001b[0;32m    926\u001b[0m \u001b[43m        \u001b[49m\u001b[43m)\u001b[49m\n\u001b[0;32m    928\u001b[0m \u001b[38;5;28;01mif\u001b[39;00m ensure_min_samples \u001b[38;5;241m>\u001b[39m \u001b[38;5;241m0\u001b[39m:\n\u001b[0;32m    929\u001b[0m     n_samples \u001b[38;5;241m=\u001b[39m _num_samples(array)\n",
      "File \u001b[1;32mc:\\Users\\Han\\anaconda3\\lib\\site-packages\\sklearn\\utils\\validation.py:161\u001b[0m, in \u001b[0;36m_assert_all_finite\u001b[1;34m(X, allow_nan, msg_dtype, estimator_name, input_name)\u001b[0m\n\u001b[0;32m    144\u001b[0m \u001b[38;5;28;01mif\u001b[39;00m estimator_name \u001b[38;5;129;01mand\u001b[39;00m input_name \u001b[38;5;241m==\u001b[39m \u001b[38;5;124m\"\u001b[39m\u001b[38;5;124mX\u001b[39m\u001b[38;5;124m\"\u001b[39m \u001b[38;5;129;01mand\u001b[39;00m has_nan_error:\n\u001b[0;32m    145\u001b[0m     \u001b[38;5;66;03m# Improve the error message on how to handle missing values in\u001b[39;00m\n\u001b[0;32m    146\u001b[0m     \u001b[38;5;66;03m# scikit-learn.\u001b[39;00m\n\u001b[0;32m    147\u001b[0m     msg_err \u001b[38;5;241m+\u001b[39m\u001b[38;5;241m=\u001b[39m (\n\u001b[0;32m    148\u001b[0m         \u001b[38;5;124mf\u001b[39m\u001b[38;5;124m\"\u001b[39m\u001b[38;5;130;01m\\n\u001b[39;00m\u001b[38;5;132;01m{\u001b[39;00mestimator_name\u001b[38;5;132;01m}\u001b[39;00m\u001b[38;5;124m does not accept missing values\u001b[39m\u001b[38;5;124m\"\u001b[39m\n\u001b[0;32m    149\u001b[0m         \u001b[38;5;124m\"\u001b[39m\u001b[38;5;124m encoded as NaN natively. For supervised learning, you might want\u001b[39m\u001b[38;5;124m\"\u001b[39m\n\u001b[1;32m   (...)\u001b[0m\n\u001b[0;32m    159\u001b[0m         \u001b[38;5;124m\"\u001b[39m\u001b[38;5;124m#estimators-that-handle-nan-values\u001b[39m\u001b[38;5;124m\"\u001b[39m\n\u001b[0;32m    160\u001b[0m     )\n\u001b[1;32m--> 161\u001b[0m \u001b[38;5;28;01mraise\u001b[39;00m \u001b[38;5;167;01mValueError\u001b[39;00m(msg_err)\n",
      "\u001b[1;31mValueError\u001b[0m: Input contains NaN."
     ]
    }
   ],
   "source": [
    "# make models for all animals/days\n",
    "from sklearn.metrics import mean_absolute_error, mean_squared_error\n",
    "errors = []\n",
    "dds = np.arange(0,21)\n",
    "dds = np.append(dds,np.arange(22,29)) # skips some days that dont have any inactive cells\n",
    "# dds = np.append(dds,np.arange(32,35))\n",
    "# dds = np.append(dds,23)\n",
    "for dd in dds: #len(conddf)\n",
    "    if conddf.in_type.values[dd]=='vip':\n",
    "        errors.append(run_inference_optoep_for_vis(conddf,dd,dcts))"
   ]
  },
  {
   "cell_type": "code",
   "execution_count": 31,
   "id": "654276cf",
   "metadata": {},
   "outputs": [
    {
     "name": "stdout",
     "output_type": "stream",
     "text": [
      "[False  True  True  True  True  True  True  True  True  True False  True\n",
      "  True  True  True  True  True  True False  True False  True  True  True\n",
      "  True]\n",
      "(25,)\n",
      "(25, 2)\n"
     ]
    }
   ],
   "source": [
    "# quantify error\n",
    "errors_arr = np.array(errors)\n",
    "mask = np.array([0,1,1,1,1,1,1,1,1,1,0,1, # exclude last 3\n",
    "                1,1,1,1,1,1,0,1,0,1,1,1,1]).astype(bool)\n",
    "print(mask)\n",
    "print(mask.shape)\n",
    "print(errors_arr.shape)"
   ]
  },
  {
   "cell_type": "code",
   "execution_count": 32,
   "id": "960ef95f-58f4-49e4-8686-7fab37fb40b2",
   "metadata": {},
   "outputs": [
    {
     "name": "stdout",
     "output_type": "stream",
     "text": [
      "                    mean_squared_error  mean_absolute_error\n",
      "animals condition                                          \n",
      "e216    vip_ledoff         3307.886169            41.831131\n",
      "        vip_ledon          4304.346188            48.727857\n",
      "e217    vip_ledoff         2725.946205            41.986453\n",
      "        vip_ledon          3969.986058            51.452396\n",
      "e218    vip_ledoff         3031.230133            39.731518\n",
      "        vip_ledon          4050.873731            51.067336\n"
     ]
    },
    {
     "data": {
      "text/plain": [
       "RanksumsResult(statistic=-1.9639610121239315, pvalue=0.049534613435626706)"
      ]
     },
     "execution_count": 32,
     "metadata": {},
     "output_type": "execute_result"
    },
    {
     "data": {
      "image/png": "[encoded data removed]",
      "text/plain": [
       "<Figure size 300x500 with 1 Axes>"
      ]
     },
     "metadata": {},
     "output_type": "display_data"
    }
   ],
   "source": [
    "# quantify error\n",
    "errors_arr = np.array(errors)\n",
    "mask = np.array([0,1,1,1,1,1,1,1,1,1,0,1,\n",
    "                1,1,1,1,1,1,0,1,0,1,1,1,1]).astype(bool)\n",
    "errors_arr = errors_arr[mask,:]\n",
    "df = pd.DataFrame()\n",
    "\n",
    "df['mean_squared_error'] = errors_arr[:,0]\n",
    "df['mean_absolute_error'] = errors_arr[:,1]\n",
    "\n",
    "conddf_ = conddf.iloc[dds[:-3][mask]]\n",
    "df['animals'] = conddf_.animals.values\n",
    "df['in_type'] = conddf_.in_type.values\n",
    "\n",
    "condition = []\n",
    "for ii,optoep in enumerate(conddf_.optoep.values):\n",
    "    if conddf_.in_type.values[ii]=='vip' and optoep<2:\n",
    "        condition.append('vip_ledoff')\n",
    "    elif conddf_.in_type.values[ii]=='vip' and optoep>=2:\n",
    "        condition.append('vip_ledon')\n",
    "    elif conddf_.in_type.values[ii]!='vip' and optoep<2:\n",
    "        condition.append('ctrl_ledoff')\n",
    "    elif conddf_.in_type.values[ii]!='vip' and optoep>=2:\n",
    "        condition.append('ctrl_ledon')\n",
    "df['condition'] = condition\n",
    "df = df.groupby(['animals', 'condition']).mean(numeric_only=True)\n",
    "print(df)\n",
    "import seaborn as sns\n",
    "plt.figure(figsize=(3,5))\n",
    "ax = sns.barplot(x = 'condition', y = 'mean_absolute_error', hue = 'condition', data=df,\n",
    "        fill=False, errorbar='se',\n",
    "        palette={'vip_ledoff': \"slategray\", 'vip_ledon': \"red\"})\n",
    "ax = sns.stripplot(x = 'condition', y = 'mean_absolute_error', hue = 'condition', data=df,\n",
    "        palette={'vip_ledoff': \"slategray\", 'vip_ledon': \"red\"},s=7)\n",
    "ax.spines['top'].set_visible(False)\n",
    "ax.spines['right'].set_visible(False)\n",
    "\n",
    "plt.savefig(os.path.join(savedst, 'mean_abs_error_lstm.svg'), bbox_inches='tight')\n",
    "# per mouse\n",
    "scipy.stats.ranksums(df.loc[(df.index.get_level_values('condition') != 'vip_ledon'), 'mean_absolute_error'].values,\n",
    "    df.loc[(df.index.get_level_values('condition') == 'vip_ledon'), 'mean_absolute_error'].values)\n",
    "# per session\n",
    "# scipy.stats.ranksums(df.loc[(df.condition != 'vip_ledon'), 'mean_absolute_error'].values,\n",
    "#     df.loc[(df.condition == 'vip_ledon'), 'mean_absolute_error'].values)\n"
   ]
  },
  {
   "cell_type": "markdown",
   "id": "06f12149",
   "metadata": {},
   "source": []
  }
 ],
 "metadata": {
  "kernelspec": {
   "display_name": "Python 3 (ipykernel)",
   "language": "python",
   "name": "python3"
  },
  "language_info": {
   "codemirror_mode": {
    "name": "ipython",
    "version": 3
   },
   "file_extension": ".py",
   "mimetype": "text/x-python",
   "name": "python",
   "nbconvert_exporter": "python",
   "pygments_lexer": "ipython3",
   "version": "3.9.19"
  }
 },
 "nbformat": 4,
 "nbformat_minor": 5
}
