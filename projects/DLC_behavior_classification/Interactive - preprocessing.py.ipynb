{
 "cells": [
  {
   "cell_type": "markdown",
   "metadata": {
    "isInteractiveWindowMessageCell": true
   },
   "source": [
    "Connected to DEEPLABCUT (Python 3.8.13)"
   ]
  },
  {
   "cell_type": "code",
   "execution_count": 1,
   "metadata": {},
   "outputs": [
    {
     "ename": "SyntaxError",
     "evalue": "invalid syntax (<ipython-input-1-f1372198f0a1>, line 8)",
     "output_type": "error",
     "traceback": [
      "\u001b[1;36m  Cell \u001b[1;32mIn [1], line 8\u001b[1;36m\u001b[0m\n\u001b[1;33m    def get_videos_from_h\u001b[0m\n\u001b[1;37m                         ^\u001b[0m\n\u001b[1;31mSyntaxError\u001b[0m\u001b[1;31m:\u001b[0m invalid syntax\n"
     ]
    }
   ],
   "source": [
    "import os, sys, shutil, tifffile, numpy as np, pandas as pd\n",
    "from datetime import datetime\n",
    "import scipy.io as sio, matplotlib.pyplot as plt, re\n",
    "import h5py, pickle\n",
    "sys.path.append(r'C:\\Users\\Han\\Documents\\MATLAB\\han-lab') ## custom your clone\n",
    "from utils.utils import listdir\n",
    "\n",
    "def get_videos_from_h"
   ]
  },
  {
   "cell_type": "code",
   "execution_count": 2,
   "metadata": {},
   "outputs": [],
   "source": [
    "pth = r\"\\\\storage1.ris.wustl.edu\\ebhan\\Active\\all_vr_data\\hrz.csv\""
   ]
  },
  {
   "cell_type": "code",
   "execution_count": 3,
   "metadata": {},
   "outputs": [
    {
     "ename": "ModuleNotFoundError",
     "evalue": "No module named 'utils'",
     "output_type": "error",
     "traceback": [
      "\u001b[1;31m---------------------------------------------------------------------------\u001b[0m",
      "\u001b[1;31mModuleNotFoundError\u001b[0m                       Traceback (most recent call last)",
      "\u001b[1;32mc:\\Users\\workstation2\\Documents\\MATLAB\\han-lab\\projects\\DLC_behavior_classification\\preprocessing.py\u001b[0m in \u001b[0;36mline 6\n\u001b[0;32m      <a href='file:///c%3A/Users/workstation2/Documents/MATLAB/han-lab/projects/DLC_behavior_classification/preprocessing.py?line=3'>4</a>\u001b[0m \u001b[39mimport\u001b[39;00m \u001b[39mh5py\u001b[39;00m\u001b[39m,\u001b[39m \u001b[39mpickle\u001b[39;00m\n\u001b[0;32m      <a href='file:///c%3A/Users/workstation2/Documents/MATLAB/han-lab/projects/DLC_behavior_classification/preprocessing.py?line=4'>5</a>\u001b[0m sys\u001b[39m.\u001b[39mpath\u001b[39m.\u001b[39mappend(\u001b[39mr\u001b[39m\u001b[39m'\u001b[39m\u001b[39mC:\u001b[39m\u001b[39m\\\u001b[39m\u001b[39mUsers\u001b[39m\u001b[39m\\\u001b[39m\u001b[39mHan\u001b[39m\u001b[39m\\\u001b[39m\u001b[39mDocuments\u001b[39m\u001b[39m\\\u001b[39m\u001b[39mMATLAB\u001b[39m\u001b[39m\\\u001b[39m\u001b[39mhan-lab\u001b[39m\u001b[39m'\u001b[39m) \u001b[39m## custom your clone\u001b[39;00m\n\u001b[1;32m----> <a href='file:///c%3A/Users/workstation2/Documents/MATLAB/han-lab/projects/DLC_behavior_classification/preprocessing.py?line=5'>6</a>\u001b[0m \u001b[39mfrom\u001b[39;00m \u001b[39mutils\u001b[39;00m\u001b[39m.\u001b[39;00m\u001b[39mutils\u001b[39;00m \u001b[39mimport\u001b[39;00m listdir\n",
      "\u001b[1;31mModuleNotFoundError\u001b[0m: No module named 'utils'"
     ]
    }
   ],
   "source": [
    "import os, sys, shutil, tifffile, numpy as np, pandas as pd\n",
    "from datetime import datetime\n",
    "import scipy.io as sio, matplotlib.pyplot as plt, re\n",
    "import h5py, pickle\n",
    "sys.path.append(r'C:\\Users\\Han\\Documents\\MATLAB\\han-lab') ## custom your clone\n",
    "from utils.utils import listdir"
   ]
  },
  {
   "cell_type": "code",
   "execution_count": 4,
   "metadata": {},
   "outputs": [],
   "source": [
    "csvpth = r\"\\\\storage1.ris.wustl.edu\\ebhan\\Active\\all_vr_data\\hrz.csv\""
   ]
  },
  {
   "cell_type": "code",
   "execution_count": 5,
   "metadata": {},
   "outputs": [],
   "source": [
    "sys.path.append(r'C:\\Users\\workstation2\\Documents\\MATLAB\\han-lab') ## custom your clone\n",
    "from utils.utils import listdir"
   ]
  },
  {
   "cell_type": "code",
   "execution_count": 6,
   "metadata": {},
   "outputs": [],
   "source": [
    "df = pd.read_csv(csvpth, index_col=None)"
   ]
  },
  {
   "cell_type": "code",
   "execution_count": 7,
   "metadata": {},
   "outputs": [
    {
     "data": {
      "text/html": [
       "<div>\n",
       "<style scoped>\n",
       "    .dataframe tbody tr th:only-of-type {\n",
       "        vertical-align: middle;\n",
       "    }\n",
       "\n",
       "    .dataframe tbody tr th {\n",
       "        vertical-align: top;\n",
       "    }\n",
       "\n",
       "    .dataframe thead th {\n",
       "        text-align: right;\n",
       "    }\n",
       "</style>\n",
       "<table border=\"1\" class=\"dataframe\">\n",
       "  <thead>\n",
       "    <tr style=\"text-align: right;\">\n",
       "      <th></th>\n",
       "      <th>Var1</th>\n",
       "    </tr>\n",
       "  </thead>\n",
       "  <tbody>\n",
       "    <tr>\n",
       "      <th>0</th>\n",
       "      <td>\\\\storage1.ris.wustl.edu\\ebhan\\Active\\all_vr_d...</td>\n",
       "    </tr>\n",
       "    <tr>\n",
       "      <th>1</th>\n",
       "      <td>\\\\storage1.ris.wustl.edu\\ebhan\\Active\\all_vr_d...</td>\n",
       "    </tr>\n",
       "    <tr>\n",
       "      <th>2</th>\n",
       "      <td>\\\\storage1.ris.wustl.edu\\ebhan\\Active\\all_vr_d...</td>\n",
       "    </tr>\n",
       "    <tr>\n",
       "      <th>3</th>\n",
       "      <td>\\\\storage1.ris.wustl.edu\\ebhan\\Active\\all_vr_d...</td>\n",
       "    </tr>\n",
       "    <tr>\n",
       "      <th>4</th>\n",
       "      <td>\\\\storage1.ris.wustl.edu\\ebhan\\Active\\all_vr_d...</td>\n",
       "    </tr>\n",
       "    <tr>\n",
       "      <th>5</th>\n",
       "      <td>\\\\storage1.ris.wustl.edu\\ebhan\\Active\\all_vr_d...</td>\n",
       "    </tr>\n",
       "    <tr>\n",
       "      <th>6</th>\n",
       "      <td>\\\\storage1.ris.wustl.edu\\ebhan\\Active\\all_vr_d...</td>\n",
       "    </tr>\n",
       "    <tr>\n",
       "      <th>7</th>\n",
       "      <td>\\\\storage1.ris.wustl.edu\\ebhan\\Active\\all_vr_d...</td>\n",
       "    </tr>\n",
       "    <tr>\n",
       "      <th>8</th>\n",
       "      <td>\\\\storage1.ris.wustl.edu\\ebhan\\Active\\all_vr_d...</td>\n",
       "    </tr>\n",
       "    <tr>\n",
       "      <th>9</th>\n",
       "      <td>\\\\storage1.ris.wustl.edu\\ebhan\\Active\\all_vr_d...</td>\n",
       "    </tr>\n",
       "    <tr>\n",
       "      <th>10</th>\n",
       "      <td>\\\\storage1.ris.wustl.edu\\ebhan\\Active\\all_vr_d...</td>\n",
       "    </tr>\n",
       "    <tr>\n",
       "      <th>11</th>\n",
       "      <td>\\\\storage1.ris.wustl.edu\\ebhan\\Active\\all_vr_d...</td>\n",
       "    </tr>\n",
       "    <tr>\n",
       "      <th>12</th>\n",
       "      <td>\\\\storage1.ris.wustl.edu\\ebhan\\Active\\all_vr_d...</td>\n",
       "    </tr>\n",
       "    <tr>\n",
       "      <th>13</th>\n",
       "      <td>\\\\storage1.ris.wustl.edu\\ebhan\\Active\\all_vr_d...</td>\n",
       "    </tr>\n",
       "    <tr>\n",
       "      <th>14</th>\n",
       "      <td>\\\\storage1.ris.wustl.edu\\ebhan\\Active\\all_vr_d...</td>\n",
       "    </tr>\n",
       "    <tr>\n",
       "      <th>15</th>\n",
       "      <td>\\\\storage1.ris.wustl.edu\\ebhan\\Active\\all_vr_d...</td>\n",
       "    </tr>\n",
       "    <tr>\n",
       "      <th>16</th>\n",
       "      <td>\\\\storage1.ris.wustl.edu\\ebhan\\Active\\all_vr_d...</td>\n",
       "    </tr>\n",
       "    <tr>\n",
       "      <th>17</th>\n",
       "      <td>\\\\storage1.ris.wustl.edu\\ebhan\\Active\\all_vr_d...</td>\n",
       "    </tr>\n",
       "    <tr>\n",
       "      <th>18</th>\n",
       "      <td>\\\\storage1.ris.wustl.edu\\ebhan\\Active\\all_vr_d...</td>\n",
       "    </tr>\n",
       "    <tr>\n",
       "      <th>19</th>\n",
       "      <td>\\\\storage1.ris.wustl.edu\\ebhan\\Active\\all_vr_d...</td>\n",
       "    </tr>\n",
       "    <tr>\n",
       "      <th>20</th>\n",
       "      <td>\\\\storage1.ris.wustl.edu\\ebhan\\Active\\all_vr_d...</td>\n",
       "    </tr>\n",
       "    <tr>\n",
       "      <th>21</th>\n",
       "      <td>\\\\storage1.ris.wustl.edu\\ebhan\\Active\\all_vr_d...</td>\n",
       "    </tr>\n",
       "    <tr>\n",
       "      <th>22</th>\n",
       "      <td>\\\\storage1.ris.wustl.edu\\ebhan\\Active\\all_vr_d...</td>\n",
       "    </tr>\n",
       "    <tr>\n",
       "      <th>23</th>\n",
       "      <td>\\\\storage1.ris.wustl.edu\\ebhan\\Active\\all_vr_d...</td>\n",
       "    </tr>\n",
       "    <tr>\n",
       "      <th>24</th>\n",
       "      <td>\\\\storage1.ris.wustl.edu\\ebhan\\Active\\all_vr_d...</td>\n",
       "    </tr>\n",
       "    <tr>\n",
       "      <th>25</th>\n",
       "      <td>\\\\storage1.ris.wustl.edu\\ebhan\\Active\\all_vr_d...</td>\n",
       "    </tr>\n",
       "    <tr>\n",
       "      <th>26</th>\n",
       "      <td>\\\\storage1.ris.wustl.edu\\ebhan\\Active\\all_vr_d...</td>\n",
       "    </tr>\n",
       "    <tr>\n",
       "      <th>27</th>\n",
       "      <td>\\\\storage1.ris.wustl.edu\\ebhan\\Active\\all_vr_d...</td>\n",
       "    </tr>\n",
       "    <tr>\n",
       "      <th>28</th>\n",
       "      <td>\\\\storage1.ris.wustl.edu\\ebhan\\Active\\all_vr_d...</td>\n",
       "    </tr>\n",
       "    <tr>\n",
       "      <th>29</th>\n",
       "      <td>\\\\storage1.ris.wustl.edu\\ebhan\\Active\\all_vr_d...</td>\n",
       "    </tr>\n",
       "    <tr>\n",
       "      <th>30</th>\n",
       "      <td>\\\\storage1.ris.wustl.edu\\ebhan\\Active\\all_vr_d...</td>\n",
       "    </tr>\n",
       "    <tr>\n",
       "      <th>31</th>\n",
       "      <td>\\\\storage1.ris.wustl.edu\\ebhan\\Active\\all_vr_d...</td>\n",
       "    </tr>\n",
       "    <tr>\n",
       "      <th>32</th>\n",
       "      <td>\\\\storage1.ris.wustl.edu\\ebhan\\Active\\all_vr_d...</td>\n",
       "    </tr>\n",
       "    <tr>\n",
       "      <th>33</th>\n",
       "      <td>\\\\storage1.ris.wustl.edu\\ebhan\\Active\\all_vr_d...</td>\n",
       "    </tr>\n",
       "    <tr>\n",
       "      <th>34</th>\n",
       "      <td>\\\\storage1.ris.wustl.edu\\ebhan\\Active\\all_vr_d...</td>\n",
       "    </tr>\n",
       "    <tr>\n",
       "      <th>35</th>\n",
       "      <td>\\\\storage1.ris.wustl.edu\\ebhan\\Active\\all_vr_d...</td>\n",
       "    </tr>\n",
       "    <tr>\n",
       "      <th>36</th>\n",
       "      <td>\\\\storage1.ris.wustl.edu\\ebhan\\Active\\all_vr_d...</td>\n",
       "    </tr>\n",
       "    <tr>\n",
       "      <th>37</th>\n",
       "      <td>\\\\storage1.ris.wustl.edu\\ebhan\\Active\\all_vr_d...</td>\n",
       "    </tr>\n",
       "    <tr>\n",
       "      <th>38</th>\n",
       "      <td>\\\\storage1.ris.wustl.edu\\ebhan\\Active\\all_vr_d...</td>\n",
       "    </tr>\n",
       "    <tr>\n",
       "      <th>39</th>\n",
       "      <td>\\\\storage1.ris.wustl.edu\\ebhan\\Active\\all_vr_d...</td>\n",
       "    </tr>\n",
       "    <tr>\n",
       "      <th>40</th>\n",
       "      <td>\\\\storage1.ris.wustl.edu\\ebhan\\Active\\all_vr_d...</td>\n",
       "    </tr>\n",
       "    <tr>\n",
       "      <th>41</th>\n",
       "      <td>\\\\storage1.ris.wustl.edu\\ebhan\\Active\\all_vr_d...</td>\n",
       "    </tr>\n",
       "    <tr>\n",
       "      <th>42</th>\n",
       "      <td>\\\\storage1.ris.wustl.edu\\ebhan\\Active\\all_vr_d...</td>\n",
       "    </tr>\n",
       "    <tr>\n",
       "      <th>43</th>\n",
       "      <td>\\\\storage1.ris.wustl.edu\\ebhan\\Active\\all_vr_d...</td>\n",
       "    </tr>\n",
       "    <tr>\n",
       "      <th>44</th>\n",
       "      <td>\\\\storage1.ris.wustl.edu\\ebhan\\Active\\all_vr_d...</td>\n",
       "    </tr>\n",
       "    <tr>\n",
       "      <th>45</th>\n",
       "      <td>\\\\storage1.ris.wustl.edu\\ebhan\\Active\\all_vr_d...</td>\n",
       "    </tr>\n",
       "    <tr>\n",
       "      <th>46</th>\n",
       "      <td>\\\\storage1.ris.wustl.edu\\ebhan\\Active\\all_vr_d...</td>\n",
       "    </tr>\n",
       "    <tr>\n",
       "      <th>47</th>\n",
       "      <td>\\\\storage1.ris.wustl.edu\\ebhan\\Active\\all_vr_d...</td>\n",
       "    </tr>\n",
       "    <tr>\n",
       "      <th>48</th>\n",
       "      <td>\\\\storage1.ris.wustl.edu\\ebhan\\Active\\all_vr_d...</td>\n",
       "    </tr>\n",
       "    <tr>\n",
       "      <th>49</th>\n",
       "      <td>\\\\storage1.ris.wustl.edu\\ebhan\\Active\\all_vr_d...</td>\n",
       "    </tr>\n",
       "    <tr>\n",
       "      <th>50</th>\n",
       "      <td>\\\\storage1.ris.wustl.edu\\ebhan\\Active\\all_vr_d...</td>\n",
       "    </tr>\n",
       "    <tr>\n",
       "      <th>51</th>\n",
       "      <td>\\\\storage1.ris.wustl.edu\\ebhan\\Active\\all_vr_d...</td>\n",
       "    </tr>\n",
       "    <tr>\n",
       "      <th>52</th>\n",
       "      <td>\\\\storage1.ris.wustl.edu\\ebhan\\Active\\all_vr_d...</td>\n",
       "    </tr>\n",
       "    <tr>\n",
       "      <th>53</th>\n",
       "      <td>\\\\storage1.ris.wustl.edu\\ebhan\\Active\\all_vr_d...</td>\n",
       "    </tr>\n",
       "  </tbody>\n",
       "</table>\n",
       "</div>"
      ],
      "text/plain": [
       "                                                 Var1\n",
       "0   \\\\storage1.ris.wustl.edu\\ebhan\\Active\\all_vr_d...\n",
       "1   \\\\storage1.ris.wustl.edu\\ebhan\\Active\\all_vr_d...\n",
       "2   \\\\storage1.ris.wustl.edu\\ebhan\\Active\\all_vr_d...\n",
       "3   \\\\storage1.ris.wustl.edu\\ebhan\\Active\\all_vr_d...\n",
       "4   \\\\storage1.ris.wustl.edu\\ebhan\\Active\\all_vr_d...\n",
       "5   \\\\storage1.ris.wustl.edu\\ebhan\\Active\\all_vr_d...\n",
       "6   \\\\storage1.ris.wustl.edu\\ebhan\\Active\\all_vr_d...\n",
       "7   \\\\storage1.ris.wustl.edu\\ebhan\\Active\\all_vr_d...\n",
       "8   \\\\storage1.ris.wustl.edu\\ebhan\\Active\\all_vr_d...\n",
       "9   \\\\storage1.ris.wustl.edu\\ebhan\\Active\\all_vr_d...\n",
       "10  \\\\storage1.ris.wustl.edu\\ebhan\\Active\\all_vr_d...\n",
       "11  \\\\storage1.ris.wustl.edu\\ebhan\\Active\\all_vr_d...\n",
       "12  \\\\storage1.ris.wustl.edu\\ebhan\\Active\\all_vr_d...\n",
       "13  \\\\storage1.ris.wustl.edu\\ebhan\\Active\\all_vr_d...\n",
       "14  \\\\storage1.ris.wustl.edu\\ebhan\\Active\\all_vr_d...\n",
       "15  \\\\storage1.ris.wustl.edu\\ebhan\\Active\\all_vr_d...\n",
       "16  \\\\storage1.ris.wustl.edu\\ebhan\\Active\\all_vr_d...\n",
       "17  \\\\storage1.ris.wustl.edu\\ebhan\\Active\\all_vr_d...\n",
       "18  \\\\storage1.ris.wustl.edu\\ebhan\\Active\\all_vr_d...\n",
       "19  \\\\storage1.ris.wustl.edu\\ebhan\\Active\\all_vr_d...\n",
       "20  \\\\storage1.ris.wustl.edu\\ebhan\\Active\\all_vr_d...\n",
       "21  \\\\storage1.ris.wustl.edu\\ebhan\\Active\\all_vr_d...\n",
       "22  \\\\storage1.ris.wustl.edu\\ebhan\\Active\\all_vr_d...\n",
       "23  \\\\storage1.ris.wustl.edu\\ebhan\\Active\\all_vr_d...\n",
       "24  \\\\storage1.ris.wustl.edu\\ebhan\\Active\\all_vr_d...\n",
       "25  \\\\storage1.ris.wustl.edu\\ebhan\\Active\\all_vr_d...\n",
       "26  \\\\storage1.ris.wustl.edu\\ebhan\\Active\\all_vr_d...\n",
       "27  \\\\storage1.ris.wustl.edu\\ebhan\\Active\\all_vr_d...\n",
       "28  \\\\storage1.ris.wustl.edu\\ebhan\\Active\\all_vr_d...\n",
       "29  \\\\storage1.ris.wustl.edu\\ebhan\\Active\\all_vr_d...\n",
       "30  \\\\storage1.ris.wustl.edu\\ebhan\\Active\\all_vr_d...\n",
       "31  \\\\storage1.ris.wustl.edu\\ebhan\\Active\\all_vr_d...\n",
       "32  \\\\storage1.ris.wustl.edu\\ebhan\\Active\\all_vr_d...\n",
       "33  \\\\storage1.ris.wustl.edu\\ebhan\\Active\\all_vr_d...\n",
       "34  \\\\storage1.ris.wustl.edu\\ebhan\\Active\\all_vr_d...\n",
       "35  \\\\storage1.ris.wustl.edu\\ebhan\\Active\\all_vr_d...\n",
       "36  \\\\storage1.ris.wustl.edu\\ebhan\\Active\\all_vr_d...\n",
       "37  \\\\storage1.ris.wustl.edu\\ebhan\\Active\\all_vr_d...\n",
       "38  \\\\storage1.ris.wustl.edu\\ebhan\\Active\\all_vr_d...\n",
       "39  \\\\storage1.ris.wustl.edu\\ebhan\\Active\\all_vr_d...\n",
       "40  \\\\storage1.ris.wustl.edu\\ebhan\\Active\\all_vr_d...\n",
       "41  \\\\storage1.ris.wustl.edu\\ebhan\\Active\\all_vr_d...\n",
       "42  \\\\storage1.ris.wustl.edu\\ebhan\\Active\\all_vr_d...\n",
       "43  \\\\storage1.ris.wustl.edu\\ebhan\\Active\\all_vr_d...\n",
       "44  \\\\storage1.ris.wustl.edu\\ebhan\\Active\\all_vr_d...\n",
       "45  \\\\storage1.ris.wustl.edu\\ebhan\\Active\\all_vr_d...\n",
       "46  \\\\storage1.ris.wustl.edu\\ebhan\\Active\\all_vr_d...\n",
       "47  \\\\storage1.ris.wustl.edu\\ebhan\\Active\\all_vr_d...\n",
       "48  \\\\storage1.ris.wustl.edu\\ebhan\\Active\\all_vr_d...\n",
       "49  \\\\storage1.ris.wustl.edu\\ebhan\\Active\\all_vr_d...\n",
       "50  \\\\storage1.ris.wustl.edu\\ebhan\\Active\\all_vr_d...\n",
       "51  \\\\storage1.ris.wustl.edu\\ebhan\\Active\\all_vr_d...\n",
       "52  \\\\storage1.ris.wustl.edu\\ebhan\\Active\\all_vr_d...\n",
       "53  \\\\storage1.ris.wustl.edu\\ebhan\\Active\\all_vr_d..."
      ]
     },
     "execution_count": 7,
     "metadata": {},
     "output_type": "execute_result"
    }
   ],
   "source": [
    "df"
   ]
  },
  {
   "cell_type": "code",
   "execution_count": 8,
   "metadata": {},
   "outputs": [],
   "source": [
    "pths = df.Var1.values"
   ]
  },
  {
   "cell_type": "code",
   "execution_count": 9,
   "metadata": {},
   "outputs": [
    {
     "data": {
      "text/plain": [
       "array(['\\\\\\\\storage1.ris.wustl.edu\\\\ebhan\\\\Active\\\\all_vr_data\\\\E144_09_Jan_2021_time(16_27_23).mat',\n",
       "       '\\\\\\\\storage1.ris.wustl.edu\\\\ebhan\\\\Active\\\\all_vr_data\\\\E145_02_Feb_2021_time(17_05_58).mat',\n",
       "       '\\\\\\\\storage1.ris.wustl.edu\\\\ebhan\\\\Active\\\\all_vr_data\\\\E145_19_Feb_2021_time(14_41_29).mat',\n",
       "       '\\\\\\\\storage1.ris.wustl.edu\\\\ebhan\\\\Active\\\\all_vr_data\\\\E146_18_Jan_2021_time(16_21_47).mat',\n",
       "       '\\\\\\\\storage1.ris.wustl.edu\\\\ebhan\\\\Active\\\\all_vr_data\\\\E146_21_Jan_2021_time(14_57_53).mat',\n",
       "       '\\\\\\\\storage1.ris.wustl.edu\\\\ebhan\\\\Active\\\\all_vr_data\\\\E147_16_Jan_2021_time(14_17_57).mat',\n",
       "       '\\\\\\\\storage1.ris.wustl.edu\\\\ebhan\\\\Active\\\\all_vr_data\\\\E154_06_Jul_2021_time(11_40_30).mat',\n",
       "       '\\\\\\\\storage1.ris.wustl.edu\\\\ebhan\\\\Active\\\\all_vr_data\\\\E154_14_Oct_2021_time(09_38_14).mat',\n",
       "       '\\\\\\\\storage1.ris.wustl.edu\\\\ebhan\\\\Active\\\\all_vr_data\\\\E158_28_Feb_2022_time(11_32_23).mat',\n",
       "       '\\\\\\\\storage1.ris.wustl.edu\\\\ebhan\\\\Active\\\\all_vr_data\\\\E159_15_Feb_2022_time(14_06_08).mat',\n",
       "       '\\\\\\\\storage1.ris.wustl.edu\\\\ebhan\\\\Active\\\\all_vr_data\\\\E160_24_Dec_2021_time(16_25_01).mat',\n",
       "       '\\\\\\\\storage1.ris.wustl.edu\\\\ebhan\\\\Active\\\\all_vr_data\\\\E161_31_Jan_2022_time(12_18_58).mat',\n",
       "       '\\\\\\\\storage1.ris.wustl.edu\\\\ebhan\\\\Active\\\\all_vr_data\\\\E162_25_Feb_2022_time(10_55_38).mat',\n",
       "       '\\\\\\\\storage1.ris.wustl.edu\\\\ebhan\\\\Active\\\\all_vr_data\\\\E179_02_May_2023_time(13_55_05).mat',\n",
       "       '\\\\\\\\storage1.ris.wustl.edu\\\\ebhan\\\\Active\\\\all_vr_data\\\\E185_18_Oct_2022_time(14_31_18).mat',\n",
       "       '\\\\\\\\storage1.ris.wustl.edu\\\\ebhan\\\\Active\\\\all_vr_data\\\\E185_27_Oct_2022_time(11_40_13).mat',\n",
       "       '\\\\\\\\storage1.ris.wustl.edu\\\\ebhan\\\\Active\\\\all_vr_data\\\\E185_28_Nov_2022_time(11_21_37).mat',\n",
       "       '\\\\\\\\storage1.ris.wustl.edu\\\\ebhan\\\\Active\\\\all_vr_data\\\\E186_02_Dec_2022_time(11_56_26).mat',\n",
       "       '\\\\\\\\storage1.ris.wustl.edu\\\\ebhan\\\\Active\\\\all_vr_data\\\\E186_10_Oct_2022_time(12_06_53).mat',\n",
       "       '\\\\\\\\storage1.ris.wustl.edu\\\\ebhan\\\\Active\\\\all_vr_data\\\\E186_17_Nov_2022_time(13_06_54).mat',\n",
       "       '\\\\\\\\storage1.ris.wustl.edu\\\\ebhan\\\\Active\\\\all_vr_data\\\\E186_23_Dec_2022_time(11_09_54).mat',\n",
       "       '\\\\\\\\storage1.ris.wustl.edu\\\\ebhan\\\\Active\\\\all_vr_data\\\\E186_28_Oct_2022_time(13_58_36).mat',\n",
       "       '\\\\\\\\storage1.ris.wustl.edu\\\\ebhan\\\\Active\\\\all_vr_data\\\\E189_06_May_2023_time(14_21_38).mat',\n",
       "       '\\\\\\\\storage1.ris.wustl.edu\\\\ebhan\\\\Active\\\\all_vr_data\\\\E189_12_Apr_2023_time(10_37_03).mat',\n",
       "       '\\\\\\\\storage1.ris.wustl.edu\\\\ebhan\\\\Active\\\\all_vr_data\\\\E189_15_Apr_2023_time(12_47_16).mat',\n",
       "       '\\\\\\\\storage1.ris.wustl.edu\\\\ebhan\\\\Active\\\\all_vr_data\\\\E201_04_Apr_2023_time(08_15_50).mat',\n",
       "       '\\\\\\\\storage1.ris.wustl.edu\\\\ebhan\\\\Active\\\\all_vr_data\\\\E201_05_Apr_2023_time(11_58_11).mat',\n",
       "       '\\\\\\\\storage1.ris.wustl.edu\\\\ebhan\\\\Active\\\\all_vr_data\\\\E201_06_Apr_2023_time(08_23_28).mat',\n",
       "       '\\\\\\\\storage1.ris.wustl.edu\\\\ebhan\\\\Active\\\\all_vr_data\\\\E201_07_Apr_2023_time(08_18_54).mat',\n",
       "       '\\\\\\\\storage1.ris.wustl.edu\\\\ebhan\\\\Active\\\\all_vr_data\\\\E201_10_Apr_2023_time(07_54_51).mat',\n",
       "       '\\\\\\\\storage1.ris.wustl.edu\\\\ebhan\\\\Active\\\\all_vr_data\\\\E201_14_Apr_2023_time(11_48_42).mat',\n",
       "       '\\\\\\\\storage1.ris.wustl.edu\\\\ebhan\\\\Active\\\\all_vr_data\\\\E201_17_Apr_2023_time(08_32_20).mat',\n",
       "       '\\\\\\\\storage1.ris.wustl.edu\\\\ebhan\\\\Active\\\\all_vr_data\\\\E201_22_May_2023_time(09_39_45).mat',\n",
       "       '\\\\\\\\storage1.ris.wustl.edu\\\\ebhan\\\\Active\\\\all_vr_data\\\\E216_01_Nov_2023_time(15_50_57).mat',\n",
       "       '\\\\\\\\storage1.ris.wustl.edu\\\\ebhan\\\\Active\\\\all_vr_data\\\\E216_07_Nov_2023_time(15_15_24).mat',\n",
       "       '\\\\\\\\storage1.ris.wustl.edu\\\\ebhan\\\\Active\\\\all_vr_data\\\\E216_08_Jan_2024_time(10_07_07).mat',\n",
       "       '\\\\\\\\storage1.ris.wustl.edu\\\\ebhan\\\\Active\\\\all_vr_data\\\\E216_09_Jan_2024_time(09_12_39).mat',\n",
       "       '\\\\\\\\storage1.ris.wustl.edu\\\\ebhan\\\\Active\\\\all_vr_data\\\\E216_18_Jan_2024_time(09_06_17).mat',\n",
       "       '\\\\\\\\storage1.ris.wustl.edu\\\\ebhan\\\\Active\\\\all_vr_data\\\\E216_20_Jan_2024_time(13_14_01).mat',\n",
       "       '\\\\\\\\storage1.ris.wustl.edu\\\\ebhan\\\\Active\\\\all_vr_data\\\\E216_24_Oct_2023_time(15_05_49).mat',\n",
       "       '\\\\\\\\storage1.ris.wustl.edu\\\\ebhan\\\\Active\\\\all_vr_data\\\\E216_26_Oct_2023_time(10_27_00).mat',\n",
       "       '\\\\\\\\storage1.ris.wustl.edu\\\\ebhan\\\\Active\\\\all_vr_data\\\\E216_31_Oct_2023_time(14_47_14).mat',\n",
       "       '\\\\\\\\storage1.ris.wustl.edu\\\\ebhan\\\\Active\\\\all_vr_data\\\\E218_05_Jan_2024_time(09_20_47).mat',\n",
       "       '\\\\\\\\storage1.ris.wustl.edu\\\\ebhan\\\\Active\\\\all_vr_data\\\\E218_06_Jan_2024_time(13_07_53).mat',\n",
       "       '\\\\\\\\storage1.ris.wustl.edu\\\\ebhan\\\\Active\\\\all_vr_data\\\\E218_08_Jan_2024_time(09_30_29).mat',\n",
       "       '\\\\\\\\storage1.ris.wustl.edu\\\\ebhan\\\\Active\\\\all_vr_data\\\\E218_09_Nov_2023_time(10_40_41).mat',\n",
       "       '\\\\\\\\storage1.ris.wustl.edu\\\\ebhan\\\\Active\\\\all_vr_data\\\\E218_10_Nov_2023_time(09_33_57).mat',\n",
       "       '\\\\\\\\storage1.ris.wustl.edu\\\\ebhan\\\\Active\\\\all_vr_data\\\\E218_15_Nov_2023_time(08_46_15).mat',\n",
       "       '\\\\\\\\storage1.ris.wustl.edu\\\\ebhan\\\\Active\\\\all_vr_data\\\\E218_16_Jan_2024_time(10_22_47).mat',\n",
       "       '\\\\\\\\storage1.ris.wustl.edu\\\\ebhan\\\\Active\\\\all_vr_data\\\\E218_21_Nov_2023_time(10_01_43).mat',\n",
       "       '\\\\\\\\storage1.ris.wustl.edu\\\\ebhan\\\\Active\\\\all_vr_data\\\\e190_07_Mar_2023_time(11_03_21).mat',\n",
       "       '\\\\\\\\storage1.ris.wustl.edu\\\\ebhan\\\\Active\\\\all_vr_data\\\\e218_10_Jan_2024_time(13_32_26).mat',\n",
       "       '\\\\\\\\storage1.ris.wustl.edu\\\\ebhan\\\\Active\\\\all_vr_data\\\\e218_16_Nov_2023_time(09_01_53).mat',\n",
       "       '\\\\\\\\storage1.ris.wustl.edu\\\\ebhan\\\\Active\\\\all_vr_data\\\\e218_19_Dec_2023_time(09_24_56).mat'],\n",
       "      dtype=object)"
      ]
     },
     "execution_count": 9,
     "metadata": {},
     "output_type": "execute_result"
    }
   ],
   "source": [
    "pths"
   ]
  },
  {
   "cell_type": "code",
   "execution_count": 10,
   "metadata": {},
   "outputs": [],
   "source": [
    "pths = [os.path.basename(xx) for xx in df.Var1.values]"
   ]
  },
  {
   "cell_type": "code",
   "execution_count": 11,
   "metadata": {},
   "outputs": [
    {
     "data": {
      "text/plain": [
       "['E144_09_Jan_2021_time(16_27_23).mat',\n",
       " 'E145_02_Feb_2021_time(17_05_58).mat',\n",
       " 'E145_19_Feb_2021_time(14_41_29).mat',\n",
       " 'E146_18_Jan_2021_time(16_21_47).mat',\n",
       " 'E146_21_Jan_2021_time(14_57_53).mat',\n",
       " 'E147_16_Jan_2021_time(14_17_57).mat',\n",
       " 'E154_06_Jul_2021_time(11_40_30).mat',\n",
       " 'E154_14_Oct_2021_time(09_38_14).mat',\n",
       " 'E158_28_Feb_2022_time(11_32_23).mat',\n",
       " 'E159_15_Feb_2022_time(14_06_08).mat',\n",
       " 'E160_24_Dec_2021_time(16_25_01).mat',\n",
       " 'E161_31_Jan_2022_time(12_18_58).mat',\n",
       " 'E162_25_Feb_2022_time(10_55_38).mat',\n",
       " 'E179_02_May_2023_time(13_55_05).mat',\n",
       " 'E185_18_Oct_2022_time(14_31_18).mat',\n",
       " 'E185_27_Oct_2022_time(11_40_13).mat',\n",
       " 'E185_28_Nov_2022_time(11_21_37).mat',\n",
       " 'E186_02_Dec_2022_time(11_56_26).mat',\n",
       " 'E186_10_Oct_2022_time(12_06_53).mat',\n",
       " 'E186_17_Nov_2022_time(13_06_54).mat',\n",
       " 'E186_23_Dec_2022_time(11_09_54).mat',\n",
       " 'E186_28_Oct_2022_time(13_58_36).mat',\n",
       " 'E189_06_May_2023_time(14_21_38).mat',\n",
       " 'E189_12_Apr_2023_time(10_37_03).mat',\n",
       " 'E189_15_Apr_2023_time(12_47_16).mat',\n",
       " 'E201_04_Apr_2023_time(08_15_50).mat',\n",
       " 'E201_05_Apr_2023_time(11_58_11).mat',\n",
       " 'E201_06_Apr_2023_time(08_23_28).mat',\n",
       " 'E201_07_Apr_2023_time(08_18_54).mat',\n",
       " 'E201_10_Apr_2023_time(07_54_51).mat',\n",
       " 'E201_14_Apr_2023_time(11_48_42).mat',\n",
       " 'E201_17_Apr_2023_time(08_32_20).mat',\n",
       " 'E201_22_May_2023_time(09_39_45).mat',\n",
       " 'E216_01_Nov_2023_time(15_50_57).mat',\n",
       " 'E216_07_Nov_2023_time(15_15_24).mat',\n",
       " 'E216_08_Jan_2024_time(10_07_07).mat',\n",
       " 'E216_09_Jan_2024_time(09_12_39).mat',\n",
       " 'E216_18_Jan_2024_time(09_06_17).mat',\n",
       " 'E216_20_Jan_2024_time(13_14_01).mat',\n",
       " 'E216_24_Oct_2023_time(15_05_49).mat',\n",
       " 'E216_26_Oct_2023_time(10_27_00).mat',\n",
       " 'E216_31_Oct_2023_time(14_47_14).mat',\n",
       " 'E218_05_Jan_2024_time(09_20_47).mat',\n",
       " 'E218_06_Jan_2024_time(13_07_53).mat',\n",
       " 'E218_08_Jan_2024_time(09_30_29).mat',\n",
       " 'E218_09_Nov_2023_time(10_40_41).mat',\n",
       " 'E218_10_Nov_2023_time(09_33_57).mat',\n",
       " 'E218_15_Nov_2023_time(08_46_15).mat',\n",
       " 'E218_16_Jan_2024_time(10_22_47).mat',\n",
       " 'E218_21_Nov_2023_time(10_01_43).mat',\n",
       " 'e190_07_Mar_2023_time(11_03_21).mat',\n",
       " 'e218_10_Jan_2024_time(13_32_26).mat',\n",
       " 'e218_16_Nov_2023_time(09_01_53).mat',\n",
       " 'e218_19_Dec_2023_time(09_24_56).mat']"
      ]
     },
     "execution_count": 11,
     "metadata": {},
     "output_type": "execute_result"
    }
   ],
   "source": [
    "pths"
   ]
  },
  {
   "cell_type": "code",
   "execution_count": 12,
   "metadata": {},
   "outputs": [],
   "source": [
    "re.search(\"([0-9]{2}\\*-[0-9]{4})\", pths[3])"
   ]
  },
  {
   "cell_type": "code",
   "execution_count": 13,
   "metadata": {},
   "outputs": [],
   "source": [
    "t=re.search(\"([0-9]{2}\\*-[0-9]{4})\", pths[3])"
   ]
  },
  {
   "cell_type": "code",
   "execution_count": 14,
   "metadata": {},
   "outputs": [],
   "source": [
    "t"
   ]
  },
  {
   "cell_type": "code",
   "execution_count": 15,
   "metadata": {},
   "outputs": [],
   "source": [
    "import re\n",
    "\n",
    "\n",
    "pattern02 = ['21_Nov_2023', '16_Nov_2023']\n",
    "dates_with_monthname = re.findall(\n",
    "    r'\\s\\d{1,2}\\_((Jan|Feb|Mar|Apr|May|Jun|Jul|Aug|Sep|Oct|Nov|Dec)_\\s\\d{4})',\n",
    "    str(pattern02)\n",
    ")\n",
    "for s in dates_with_monthname:\n",
    "    print(s[0])"
   ]
  },
  {
   "cell_type": "code",
   "execution_count": 16,
   "metadata": {},
   "outputs": [],
   "source": [
    "import re\n",
    "\n",
    "\n",
    "pattern02 = ['21_Nov_2023', '16_Nov_2023']\n",
    "dates_with_monthname = re.findall(\n",
    "    r'\\s\\d{1,2}_((Jan|Feb|Mar|Apr|May|Jun|Jul|Aug|Sep|Oct|Nov|Dec)_\\s\\d{4})',\n",
    "    str(pattern02)\n",
    ")\n",
    "for s in dates_with_monthname:\n",
    "    print(s[0])"
   ]
  },
  {
   "cell_type": "code",
   "execution_count": 17,
   "metadata": {},
   "outputs": [
    {
     "name": "stdout",
     "output_type": "stream",
     "text": [
      "Nov_2023\n",
      "Nov_2023\n"
     ]
    }
   ],
   "source": [
    "import re\n",
    "\n",
    "\n",
    "pattern02 = ['21_Nov_2023', '16_Nov_2023']\n",
    "dates_with_monthname = re.findall(\n",
    "    r'\\d{1,2}_((Jan|Feb|Mar|Apr|May|Jun|Jul|Aug|Sep|Oct|Nov|Dec)_\\d{4})',\n",
    "    str(pattern02)\n",
    ")\n",
    "for s in dates_with_monthname:\n",
    "    print(s[0])"
   ]
  },
  {
   "cell_type": "code",
   "execution_count": 18,
   "metadata": {},
   "outputs": [
    {
     "name": "stdout",
     "output_type": "stream",
     "text": [
      "('Nov_2023', 'Nov')\n",
      "('Nov_2023', 'Nov')\n"
     ]
    }
   ],
   "source": [
    "import re\n",
    "\n",
    "\n",
    "pattern02 = ['21_Nov_2023', '16_Nov_2023']\n",
    "dates_with_monthname = re.findall(\n",
    "    r'\\d{1,2}_((Jan|Feb|Mar|Apr|May|Jun|Jul|Aug|Sep|Oct|Nov|Dec)_\\d{4})',\n",
    "    str(pattern02)\n",
    ")\n",
    "for s in dates_with_monthname:\n",
    "    print(s)"
   ]
  },
  {
   "cell_type": "code",
   "execution_count": 19,
   "metadata": {},
   "outputs": [
    {
     "name": "stdout",
     "output_type": "stream",
     "text": [
      "('Nov_2023', 'Nov')\n",
      "('Nov_2023', 'Nov')\n"
     ]
    }
   ],
   "source": [
    "import re\n",
    "\n",
    "\n",
    "pattern02 = ['21_Nov_2023', '16_Nov_2023']\n",
    "dates_with_monthname = re.findall(\n",
    "    r'\\d{2}_((Jan|Feb|Mar|Apr|May|Jun|Jul|Aug|Sep|Oct|Nov|Dec)_\\d{4})',\n",
    "    str(pattern02)\n",
    ")\n",
    "for s in dates_with_monthname:\n",
    "    print(s)"
   ]
  },
  {
   "cell_type": "code",
   "execution_count": 20,
   "metadata": {},
   "outputs": [],
   "source": [
    "import re\n",
    "\n",
    "\n",
    "pattern02 = ['21_Nov_2023', '16_Nov_2023']\n",
    "dates_with_monthname = re.findall(\n",
    "    r'd{2}_((Jan|Feb|Mar|Apr|May|Jun|Jul|Aug|Sep|Oct|Nov|Dec)_d{4})',\n",
    "    str(pattern02)\n",
    ")\n",
    "for s in dates_with_monthname:\n",
    "    print(s)"
   ]
  },
  {
   "cell_type": "code",
   "execution_count": 21,
   "metadata": {},
   "outputs": [
    {
     "name": "stdout",
     "output_type": "stream",
     "text": [
      "('Nov_2023', 'Nov')\n",
      "('Nov_2023', 'Nov')\n"
     ]
    }
   ],
   "source": [
    "import re\n",
    "\n",
    "\n",
    "pattern02 = ['21_Nov_2023', '16_Nov_2023']\n",
    "dates_with_monthname = re.findall(\n",
    "    r'\\d{2}_((Jan|Feb|Mar|Apr|May|Jun|Jul|Aug|Sep|Oct|Nov|Dec)_\\d{4})',\n",
    "    str(pattern02)\n",
    ")\n",
    "for s in dates_with_monthname:\n",
    "    print(s)"
   ]
  },
  {
   "cell_type": "code",
   "execution_count": 22,
   "metadata": {},
   "outputs": [],
   "source": [
    "import re\n",
    "\n",
    "\n",
    "pattern02 = ['21_Nov_2023', '16_Nov_2023']\n",
    "dates_with_monthname = re.findall(\n",
    "    r'(d{2}_(Jan|Feb|Mar|Apr|May|Jun|Jul|Aug|Sep|Oct|Nov|Dec)_d{4})',\n",
    "    str(pattern02)\n",
    ")\n",
    "for s in dates_with_monthname:\n",
    "    print(s)"
   ]
  },
  {
   "cell_type": "code",
   "execution_count": 23,
   "metadata": {},
   "outputs": [
    {
     "name": "stdout",
     "output_type": "stream",
     "text": [
      "('21_Nov_2023', 'Nov')\n",
      "('16_Nov_2023', 'Nov')\n"
     ]
    }
   ],
   "source": [
    "import re\n",
    "\n",
    "\n",
    "pattern02 = ['21_Nov_2023', '16_Nov_2023']\n",
    "dates_with_monthname = re.findall(\n",
    "    r'(\\d{2}_(Jan|Feb|Mar|Apr|May|Jun|Jul|Aug|Sep|Oct|Nov|Dec)_\\d{4})',\n",
    "    str(pattern02)\n",
    ")\n",
    "for s in dates_with_monthname:\n",
    "    print(s)"
   ]
  }
 ],
 "metadata": {
  "kernelspec": {
   "display_name": "DEEPLABCUT",
   "language": "python",
   "name": "python3"
  },
  "language_info": {
   "codemirror_mode": {
    "name": "ipython",
    "version": 3
   },
   "file_extension": ".py",
   "mimetype": "text/x-python",
   "name": "python",
   "nbconvert_exporter": "python",
   "pygments_lexer": "ipython3",
   "version": "3.8.13"
  }
 },
 "nbformat": 4,
 "nbformat_minor": 2
}
